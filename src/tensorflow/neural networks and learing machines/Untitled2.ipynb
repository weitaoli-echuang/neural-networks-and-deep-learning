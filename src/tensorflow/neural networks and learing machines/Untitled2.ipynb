{
 "cells": [
  {
   "cell_type": "code",
   "execution_count": 1,
   "metadata": {
    "collapsed": true
   },
   "outputs": [],
   "source": [
    "import tensorflow as tf\n",
    "import numpy as np"
   ]
  },
  {
   "cell_type": "code",
   "execution_count": 2,
   "metadata": {
    "collapsed": false
   },
   "outputs": [],
   "source": [
    "sess=tf.Session()\n",
    "\n",
    "with tf.name_scope('summaries'):\n",
    "    tf.summary.scalar('mean', 2.0)\n",
    "    tf.summary.scalar('max', 1.0)\n",
    "    tf.summary.scalar('min', 1.1)\n",
    "\n",
    "with tf.name_scope('mm'):\n",
    "    tf.summary.scalar('mean', 2.0)\n",
    "    tf.summary.scalar('max', 1.0)\n",
    "    tf.summary.scalar('xxx', 1.1)\n",
    "    \n",
    "merged = tf.summary.merge_all()\n",
    "train_writer = tf.summary.FileWriter('./train', sess.graph)\n",
    "sess.run(tf.global_variables_initializer())\n",
    "for i in range(1000):\n",
    "    summary=sess.run(merged)\n",
    "    train_writer.add_summary(summary,i)\n",
    "train_writer.close()"
   ]
  },
  {
   "cell_type": "code",
   "execution_count": null,
   "metadata": {
    "collapsed": true
   },
   "outputs": [],
   "source": []
  }
 ],
 "metadata": {
  "anaconda-cloud": {},
  "kernelspec": {
   "display_name": "Python [default]",
   "language": "python",
   "name": "python3"
  },
  "language_info": {
   "codemirror_mode": {
    "name": "ipython",
    "version": 3
   },
   "file_extension": ".py",
   "mimetype": "text/x-python",
   "name": "python",
   "nbconvert_exporter": "python",
   "pygments_lexer": "ipython3",
   "version": "3.5.2"
  }
 },
 "nbformat": 4,
 "nbformat_minor": 2
}
