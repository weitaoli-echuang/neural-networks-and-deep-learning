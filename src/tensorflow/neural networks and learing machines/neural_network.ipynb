{
 "cells": [
  {
   "cell_type": "code",
   "execution_count": 6,
   "metadata": {
    "collapsed": false
   },
   "outputs": [],
   "source": [
    "# %%writefile neural_network\n",
    "\n",
    "import tensorflow as tf\n",
    "import numpy as np\n",
    "import matplotlib.pyplot as pt\n"
   ]
  },
  {
   "cell_type": "code",
   "execution_count": 23,
   "metadata": {
    "collapsed": true
   },
   "outputs": [],
   "source": [
    "class Network:\n",
    "    def __init__(self):\n",
    "        self.data_dim=[None,2]\n",
    "        self.labels_dim=[None,1]\n",
    "        self.W_dim=[2,1]\n",
    "        self.x_placehold=tf.placeholder(tf.float32,shape=self.data_dim)\n",
    "        self.y_placehold=tf.placeholder(tf.float32,shape=self.labels_dim)\n",
    "        self.W=tf.Variable(tf.random_uniform(self.W_dim,-1,1))\n",
    "        self.b=tf.Variable([0.]) \n",
    "        self.sess = tf.Session()\n",
    "    \n",
    "    def moon(self,r, w, n, d, show):\n",
    "        inner_rad = r - w / 2\n",
    "        rho = np.ones(n) * inner_rad + np.random.rand(n) * w\n",
    "        theta = np.random.rand(n) * np.pi\n",
    "        X = rho * np.array([np.cos(theta), np.sin(theta)])\n",
    "        Y = np.ones(n)\n",
    "\n",
    "        x = rho * np.array([np.cos(theta), -np.sin(theta)]) + \\\n",
    "            (np.ones(X.shape).T * np.array([inner_rad, -d])).T\n",
    "        y = -np.ones(n)\n",
    "\n",
    "        if show:\n",
    "            fig = pt.figure()\n",
    "            ax = fig.gca()\n",
    "            ax.set_aspect('equal')\n",
    "            pt.scatter(X[0, :], X[1, :], marker='+')\n",
    "            pt.scatter(x[0, :], x[1, :], marker='+')\n",
    "            pt.show()\n",
    "\n",
    "        return np.concatenate((X.T, x.T)), np.concatenate((Y.T, y.T))\n",
    "    \n",
    "    \n",
    "    def linear(self):\n",
    "        pos=np.arange(-1.,1.,0.01)\n",
    "        data_len=len(pos)\n",
    "        delta = np.random.uniform(0.1,1,data_len)\n",
    "        y_positive=-(pos+1) + delta\n",
    "        y_negative=-(pos+1) - delta\n",
    "        \n",
    "        Y=pos+y_positive+1\n",
    "        y=pos+y_negative+1\n",
    "        \n",
    "        X=np.array([pos,y_positive])\n",
    "        x=np.array([pos,y_negative])\n",
    "        \n",
    "        fig = pt.figure()\n",
    "        ax = fig.gca()\n",
    "        ax.set_aspect('equal')\n",
    "        pt.scatter(X[0, :], X[1, :], marker='+')\n",
    "        pt.scatter(x[0, :], x[1, :], marker='+')\n",
    "        pt.show()\n",
    "        \n",
    "        return np.concatenate((X.T, x.T)), np.concatenate((Y.T, y.T))\n",
    "        \n",
    "    \n",
    "    def input(self):\n",
    "#         self.data, self.labels = self.moon(10, 6, 3000, 2, True)\n",
    "        self.data, self.labels = self.linear()\n",
    "        if len(self.labels.shape)==1:\n",
    "            self.labels.shape=(-1,1)        \n",
    "        \n",
    "        \n",
    "    def inference(self):\n",
    "#         self.logits = tf.sign(tf.matmul(self.x_placehold, self.W) + self.b)\n",
    "        self.logits = tf.matmul(self.x_placehold, self.W) + self.b\n",
    "        \n",
    "    \n",
    "    def loss(self):\n",
    "        self.loss_op=tf.reduce_sum(tf.square(self.logits - self.y_placehold))\n",
    "        \n",
    "    \n",
    "    def train(self,learning_rate):\n",
    "        optimizer = tf.train.GradientDescentOptimizer(learning_rate)\n",
    "        self.train_op = optimizer.minimize(self.loss_op)\n",
    "   \n",
    "    \n",
    "    def fit(self,count):\n",
    "        self.sess = tf.Session()\n",
    "        self.sess.run(tf.global_variables_initializer())\n",
    "        wc, bc = self.sess.run([self.W, self.b], feed_dict={self.x_placehold: self.data, self.y_placehold: self.labels})\n",
    "        print(wc,bc)\n",
    "        \n",
    "        for i in range(count):\n",
    "            self.sess.run(self.train_op, feed_dict={self.x_placehold: self.data, self.y_placehold: self.labels})\n",
    "        \n",
    "        wc, bc = self.sess.run([self.W, self.b], feed_dict={self.x_placehold: self.data, self.y_placehold: self.labels})\n",
    "        print(wc,bc)\n",
    "        \n",
    "        \n",
    "    \n",
    "    def evaluation(self):\n",
    "        return self.sess.run(tf.reduce_sum(tf.abs(tf.sub(self.logits, self.labels))),feed_dict={self.x_placehold: self.data, self.y_placehold: self.labels})\n",
    "    \n",
    "        \n",
    "    "
   ]
  },
  {
   "cell_type": "code",
   "execution_count": 27,
   "metadata": {
    "collapsed": false
   },
   "outputs": [
    {
     "data": {
      "image/png": "[encoded data removed]",
      "text/plain": [
       "<matplotlib.figure.Figure at 0x226e87c1a58>"
      ]
     },
     "metadata": {},
     "output_type": "display_data"
    },
    {
     "name": "stdout",
     "output_type": "stream",
     "text": [
      "[[-0.5005548 ]\n",
      " [ 0.46485424]] [ 0.]\n",
      "[[ 0.99999982]\n",
      " [ 1.00000012]] [ 0.99999976]\n"
     ]
    }
   ],
   "source": [
    "network=Network()\n",
    "network.input()\n",
    "network.inference()\n",
    "network.loss()\n",
    "network.train(0.001)\n",
    "network.fit(1000)\n",
    "\n",
    "# network.linear()"
   ]
  },
  {
   "cell_type": "code",
   "execution_count": 4,
   "metadata": {
    "collapsed": false
   },
   "outputs": [
    {
     "data": {
      "text/plain": [
       "11822.0"
      ]
     },
     "execution_count": 4,
     "metadata": {},
     "output_type": "execute_result"
    }
   ],
   "source": [
    "network.evaluation()"
   ]
  }
 ],
 "metadata": {
  "anaconda-cloud": {},
  "celltoolbar": "Raw Cell Format",
  "kernelspec": {
   "display_name": "Python [default]",
   "language": "python",
   "name": "python3"
  },
  "language_info": {
   "codemirror_mode": {
    "name": "ipython",
    "version": 3
   },
   "file_extension": ".py",
   "mimetype": "text/x-python",
   "name": "python",
   "nbconvert_exporter": "python",
   "pygments_lexer": "ipython3",
   "version": "3.5.2"
  }
 },
 "nbformat": 4,
 "nbformat_minor": 2
}
